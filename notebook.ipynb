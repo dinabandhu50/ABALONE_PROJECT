{
 "cells": [
  {
   "cell_type": "markdown",
   "metadata": {},
   "source": [
    "<center><h1> ABALONE </h1></center>"
   ]
  },
  {
   "cell_type": "markdown",
   "metadata": {},
   "source": [
    "<img align=\"center\" src=\"./images/abalone_shell.jpg\" alt=\"Drawing\" width=\"200\"/>\n",
    "\n",
    "------------------------------------------------------------------"
   ]
  },
  {
   "cell_type": "markdown",
   "metadata": {},
   "source": [
    "## Determine the sex of abalone for given features"
   ]
  },
  {
   "cell_type": "code",
   "execution_count": 1,
   "metadata": {},
   "outputs": [],
   "source": [
    "# @hidden_cell\n",
    "\n",
    "import numpy as np\n",
    "import pandas as pd\n",
    "import seaborn as sns\n",
    "import matplotlib.pyplot as plt\n",
    "\n",
    "%matplotlib inline"
   ]
  },
  {
   "cell_type": "code",
   "execution_count": 2,
   "metadata": {},
   "outputs": [],
   "source": [
    "df = pd.read_csv('./data/abalone_original.csv')"
   ]
  },
  {
   "cell_type": "code",
   "execution_count": 3,
   "metadata": {},
   "outputs": [
    {
     "data": {
      "text/html": [
       "<div>\n",
       "<style scoped>\n",
       "    .dataframe tbody tr th:only-of-type {\n",
       "        vertical-align: middle;\n",
       "    }\n",
       "\n",
       "    .dataframe tbody tr th {\n",
       "        vertical-align: top;\n",
       "    }\n",
       "\n",
       "    .dataframe thead th {\n",
       "        text-align: right;\n",
       "    }\n",
       "</style>\n",
       "<table border=\"1\" class=\"dataframe\">\n",
       "  <thead>\n",
       "    <tr style=\"text-align: right;\">\n",
       "      <th></th>\n",
       "      <th>sex</th>\n",
       "      <th>length</th>\n",
       "      <th>diameter</th>\n",
       "      <th>height</th>\n",
       "      <th>whole-weight</th>\n",
       "      <th>shucked-weight</th>\n",
       "      <th>viscera-weight</th>\n",
       "      <th>shell-weight</th>\n",
       "      <th>rings</th>\n",
       "    </tr>\n",
       "  </thead>\n",
       "  <tbody>\n",
       "    <tr>\n",
       "      <th>0</th>\n",
       "      <td>M</td>\n",
       "      <td>91</td>\n",
       "      <td>73</td>\n",
       "      <td>19</td>\n",
       "      <td>102.8</td>\n",
       "      <td>44.9</td>\n",
       "      <td>20.2</td>\n",
       "      <td>30.0</td>\n",
       "      <td>15</td>\n",
       "    </tr>\n",
       "    <tr>\n",
       "      <th>1</th>\n",
       "      <td>M</td>\n",
       "      <td>70</td>\n",
       "      <td>53</td>\n",
       "      <td>18</td>\n",
       "      <td>45.1</td>\n",
       "      <td>19.9</td>\n",
       "      <td>9.7</td>\n",
       "      <td>14.0</td>\n",
       "      <td>7</td>\n",
       "    </tr>\n",
       "    <tr>\n",
       "      <th>2</th>\n",
       "      <td>F</td>\n",
       "      <td>106</td>\n",
       "      <td>84</td>\n",
       "      <td>27</td>\n",
       "      <td>135.4</td>\n",
       "      <td>51.3</td>\n",
       "      <td>28.3</td>\n",
       "      <td>42.0</td>\n",
       "      <td>9</td>\n",
       "    </tr>\n",
       "    <tr>\n",
       "      <th>3</th>\n",
       "      <td>M</td>\n",
       "      <td>88</td>\n",
       "      <td>73</td>\n",
       "      <td>25</td>\n",
       "      <td>103.2</td>\n",
       "      <td>43.1</td>\n",
       "      <td>22.8</td>\n",
       "      <td>31.0</td>\n",
       "      <td>10</td>\n",
       "    </tr>\n",
       "    <tr>\n",
       "      <th>4</th>\n",
       "      <td>I</td>\n",
       "      <td>66</td>\n",
       "      <td>51</td>\n",
       "      <td>16</td>\n",
       "      <td>41.0</td>\n",
       "      <td>17.9</td>\n",
       "      <td>7.9</td>\n",
       "      <td>11.0</td>\n",
       "      <td>7</td>\n",
       "    </tr>\n",
       "  </tbody>\n",
       "</table>\n",
       "</div>"
      ],
      "text/plain": [
       "  sex  length  diameter  height  whole-weight  shucked-weight  viscera-weight  \\\n",
       "0   M      91        73      19         102.8            44.9            20.2   \n",
       "1   M      70        53      18          45.1            19.9             9.7   \n",
       "2   F     106        84      27         135.4            51.3            28.3   \n",
       "3   M      88        73      25         103.2            43.1            22.8   \n",
       "4   I      66        51      16          41.0            17.9             7.9   \n",
       "\n",
       "   shell-weight  rings  \n",
       "0          30.0     15  \n",
       "1          14.0      7  \n",
       "2          42.0      9  \n",
       "3          31.0     10  \n",
       "4          11.0      7  "
      ]
     },
     "execution_count": 3,
     "metadata": {},
     "output_type": "execute_result"
    }
   ],
   "source": [
    "df.head()"
   ]
  },
  {
   "cell_type": "code",
   "execution_count": 4,
   "metadata": {},
   "outputs": [
    {
     "name": "stdout",
     "output_type": "stream",
     "text": [
      "<class 'pandas.core.frame.DataFrame'>\n",
      "RangeIndex: 4177 entries, 0 to 4176\n",
      "Data columns (total 9 columns):\n",
      "sex               4177 non-null object\n",
      "length            4177 non-null int64\n",
      "diameter          4177 non-null int64\n",
      "height            4177 non-null int64\n",
      "whole-weight      4177 non-null float64\n",
      "shucked-weight    4177 non-null float64\n",
      "viscera-weight    4177 non-null float64\n",
      "shell-weight      4177 non-null float64\n",
      "rings             4177 non-null int64\n",
      "dtypes: float64(4), int64(4), object(1)\n",
      "memory usage: 293.8+ KB\n"
     ]
    }
   ],
   "source": [
    "df.info()"
   ]
  },
  {
   "cell_type": "code",
   "execution_count": 5,
   "metadata": {},
   "outputs": [
    {
     "data": {
      "text/html": [
       "<div>\n",
       "<style scoped>\n",
       "    .dataframe tbody tr th:only-of-type {\n",
       "        vertical-align: middle;\n",
       "    }\n",
       "\n",
       "    .dataframe tbody tr th {\n",
       "        vertical-align: top;\n",
       "    }\n",
       "\n",
       "    .dataframe thead th {\n",
       "        text-align: right;\n",
       "    }\n",
       "</style>\n",
       "<table border=\"1\" class=\"dataframe\">\n",
       "  <thead>\n",
       "    <tr style=\"text-align: right;\">\n",
       "      <th></th>\n",
       "      <th>length</th>\n",
       "      <th>diameter</th>\n",
       "      <th>height</th>\n",
       "      <th>whole-weight</th>\n",
       "      <th>shucked-weight</th>\n",
       "      <th>viscera-weight</th>\n",
       "      <th>shell-weight</th>\n",
       "      <th>rings</th>\n",
       "    </tr>\n",
       "  </thead>\n",
       "  <tbody>\n",
       "    <tr>\n",
       "      <th>count</th>\n",
       "      <td>4177.000000</td>\n",
       "      <td>4177.000000</td>\n",
       "      <td>4177.000000</td>\n",
       "      <td>4177.000000</td>\n",
       "      <td>4177.000000</td>\n",
       "      <td>4177.000000</td>\n",
       "      <td>4177.000000</td>\n",
       "      <td>4177.000000</td>\n",
       "    </tr>\n",
       "    <tr>\n",
       "      <th>mean</th>\n",
       "      <td>104.798420</td>\n",
       "      <td>81.576251</td>\n",
       "      <td>27.903280</td>\n",
       "      <td>165.748432</td>\n",
       "      <td>71.873498</td>\n",
       "      <td>36.118722</td>\n",
       "      <td>47.766172</td>\n",
       "      <td>9.933684</td>\n",
       "    </tr>\n",
       "    <tr>\n",
       "      <th>std</th>\n",
       "      <td>24.018583</td>\n",
       "      <td>19.847973</td>\n",
       "      <td>8.365411</td>\n",
       "      <td>98.077804</td>\n",
       "      <td>44.392590</td>\n",
       "      <td>21.922850</td>\n",
       "      <td>27.840534</td>\n",
       "      <td>3.224169</td>\n",
       "    </tr>\n",
       "    <tr>\n",
       "      <th>min</th>\n",
       "      <td>15.000000</td>\n",
       "      <td>11.000000</td>\n",
       "      <td>0.000000</td>\n",
       "      <td>0.400000</td>\n",
       "      <td>0.200000</td>\n",
       "      <td>0.100000</td>\n",
       "      <td>0.300000</td>\n",
       "      <td>1.000000</td>\n",
       "    </tr>\n",
       "    <tr>\n",
       "      <th>25%</th>\n",
       "      <td>90.000000</td>\n",
       "      <td>70.000000</td>\n",
       "      <td>23.000000</td>\n",
       "      <td>88.300000</td>\n",
       "      <td>37.200000</td>\n",
       "      <td>18.700000</td>\n",
       "      <td>26.000000</td>\n",
       "      <td>8.000000</td>\n",
       "    </tr>\n",
       "    <tr>\n",
       "      <th>50%</th>\n",
       "      <td>109.000000</td>\n",
       "      <td>85.000000</td>\n",
       "      <td>28.000000</td>\n",
       "      <td>159.900000</td>\n",
       "      <td>67.200000</td>\n",
       "      <td>34.200000</td>\n",
       "      <td>46.800000</td>\n",
       "      <td>9.000000</td>\n",
       "    </tr>\n",
       "    <tr>\n",
       "      <th>75%</th>\n",
       "      <td>123.000000</td>\n",
       "      <td>96.000000</td>\n",
       "      <td>33.000000</td>\n",
       "      <td>230.600000</td>\n",
       "      <td>100.400000</td>\n",
       "      <td>50.600000</td>\n",
       "      <td>65.800000</td>\n",
       "      <td>11.000000</td>\n",
       "    </tr>\n",
       "    <tr>\n",
       "      <th>max</th>\n",
       "      <td>163.000000</td>\n",
       "      <td>130.000000</td>\n",
       "      <td>226.000000</td>\n",
       "      <td>565.100000</td>\n",
       "      <td>297.600000</td>\n",
       "      <td>152.000000</td>\n",
       "      <td>201.000000</td>\n",
       "      <td>29.000000</td>\n",
       "    </tr>\n",
       "  </tbody>\n",
       "</table>\n",
       "</div>"
      ],
      "text/plain": [
       "            length     diameter       height  whole-weight  shucked-weight  \\\n",
       "count  4177.000000  4177.000000  4177.000000   4177.000000     4177.000000   \n",
       "mean    104.798420    81.576251    27.903280    165.748432       71.873498   \n",
       "std      24.018583    19.847973     8.365411     98.077804       44.392590   \n",
       "min      15.000000    11.000000     0.000000      0.400000        0.200000   \n",
       "25%      90.000000    70.000000    23.000000     88.300000       37.200000   \n",
       "50%     109.000000    85.000000    28.000000    159.900000       67.200000   \n",
       "75%     123.000000    96.000000    33.000000    230.600000      100.400000   \n",
       "max     163.000000   130.000000   226.000000    565.100000      297.600000   \n",
       "\n",
       "       viscera-weight  shell-weight        rings  \n",
       "count     4177.000000   4177.000000  4177.000000  \n",
       "mean        36.118722     47.766172     9.933684  \n",
       "std         21.922850     27.840534     3.224169  \n",
       "min          0.100000      0.300000     1.000000  \n",
       "25%         18.700000     26.000000     8.000000  \n",
       "50%         34.200000     46.800000     9.000000  \n",
       "75%         50.600000     65.800000    11.000000  \n",
       "max        152.000000    201.000000    29.000000  "
      ]
     },
     "execution_count": 5,
     "metadata": {},
     "output_type": "execute_result"
    }
   ],
   "source": [
    "df.describe()"
   ]
  },
  {
   "cell_type": "code",
   "execution_count": 6,
   "metadata": {},
   "outputs": [
    {
     "data": {
      "text/plain": [
       "array(['M', 'F', 'I'], dtype=object)"
      ]
     },
     "execution_count": 6,
     "metadata": {},
     "output_type": "execute_result"
    }
   ],
   "source": [
    "df['sex'].unique()"
   ]
  },
  {
   "cell_type": "code",
   "execution_count": 7,
   "metadata": {},
   "outputs": [],
   "source": [
    "X = df.drop('sex',axis=1)\n",
    "y = df['sex']"
   ]
  },
  {
   "cell_type": "markdown",
   "metadata": {},
   "source": [
    "## Building training and testing dataset"
   ]
  },
  {
   "cell_type": "code",
   "execution_count": 8,
   "metadata": {},
   "outputs": [],
   "source": [
    "from sklearn.model_selection import train_test_split"
   ]
  },
  {
   "cell_type": "code",
   "execution_count": 9,
   "metadata": {},
   "outputs": [],
   "source": [
    "x_train,x_test,y_train,y_test = train_test_split(X,y,test_size=0.2,random_state=1)"
   ]
  },
  {
   "cell_type": "markdown",
   "metadata": {},
   "source": [
    "## Model training"
   ]
  },
  {
   "cell_type": "code",
   "execution_count": 10,
   "metadata": {},
   "outputs": [],
   "source": [
    "# base model\n",
    "from sklearn.linear_model import LogisticRegression"
   ]
  },
  {
   "cell_type": "code",
   "execution_count": 11,
   "metadata": {},
   "outputs": [],
   "source": [
    "model = LogisticRegression(multi_class='ovr')"
   ]
  },
  {
   "cell_type": "code",
   "execution_count": 12,
   "metadata": {},
   "outputs": [
    {
     "name": "stderr",
     "output_type": "stream",
     "text": [
      "C:\\Users\\dinabandhub\\AppData\\Local\\conda\\conda\\envs\\ml\\lib\\site-packages\\sklearn\\linear_model\\logistic.py:432: FutureWarning: Default solver will be changed to 'lbfgs' in 0.22. Specify a solver to silence this warning.\n",
      "  FutureWarning)\n"
     ]
    },
    {
     "data": {
      "text/plain": [
       "LogisticRegression(C=1.0, class_weight=None, dual=False, fit_intercept=True,\n",
       "                   intercept_scaling=1, l1_ratio=None, max_iter=100,\n",
       "                   multi_class='ovr', n_jobs=None, penalty='l2',\n",
       "                   random_state=None, solver='warn', tol=0.0001, verbose=0,\n",
       "                   warm_start=False)"
      ]
     },
     "execution_count": 12,
     "metadata": {},
     "output_type": "execute_result"
    }
   ],
   "source": [
    "model.fit(x_train,y_train)"
   ]
  },
  {
   "cell_type": "markdown",
   "metadata": {},
   "source": [
    "## Model evaluation"
   ]
  },
  {
   "cell_type": "code",
   "execution_count": 13,
   "metadata": {},
   "outputs": [],
   "source": [
    "from sklearn.metrics import classification_report"
   ]
  },
  {
   "cell_type": "code",
   "execution_count": 14,
   "metadata": {},
   "outputs": [],
   "source": [
    "y_pred = model.predict(x_test)"
   ]
  },
  {
   "cell_type": "code",
   "execution_count": 15,
   "metadata": {},
   "outputs": [
    {
     "name": "stdout",
     "output_type": "stream",
     "text": [
      "              precision    recall  f1-score   support\n",
      "\n",
      "           F       0.53      0.35      0.42       260\n",
      "           I       0.65      0.84      0.73       264\n",
      "           M       0.52      0.53      0.53       312\n",
      "\n",
      "    accuracy                           0.58       836\n",
      "   macro avg       0.57      0.58      0.56       836\n",
      "weighted avg       0.56      0.58      0.56       836\n",
      "\n"
     ]
    }
   ],
   "source": [
    "print(classification_report(y_test,y_pred))"
   ]
  },
  {
   "cell_type": "markdown",
   "metadata": {},
   "source": [
    "## Model saving"
   ]
  },
  {
   "cell_type": "code",
   "execution_count": 16,
   "metadata": {},
   "outputs": [
    {
     "name": "stderr",
     "output_type": "stream",
     "text": [
      "C:\\Users\\dinabandhub\\AppData\\Local\\conda\\conda\\envs\\ml\\lib\\site-packages\\sklearn\\externals\\joblib\\__init__.py:15: DeprecationWarning: sklearn.externals.joblib is deprecated in 0.21 and will be removed in 0.23. Please import this functionality directly from joblib, which can be installed with: pip install joblib. If this warning is raised when loading pickled models, you may need to re-serialize those models with scikit-learn 0.21+.\n",
      "  warnings.warn(msg, category=DeprecationWarning)\n"
     ]
    }
   ],
   "source": [
    "from sklearn.externals import joblib"
   ]
  },
  {
   "cell_type": "code",
   "execution_count": 17,
   "metadata": {},
   "outputs": [
    {
     "data": {
      "text/plain": [
       "['./models/model_saved.sav']"
      ]
     },
     "execution_count": 17,
     "metadata": {},
     "output_type": "execute_result"
    }
   ],
   "source": [
    "PATH_MODEL = './models/model_saved.sav'\n",
    "joblib.dump(model, PATH_MODEL)"
   ]
  },
  {
   "cell_type": "code",
   "execution_count": 18,
   "metadata": {},
   "outputs": [],
   "source": [
    "# model loading\n",
    "model_loaded = joblib.load(PATH_MODEL)"
   ]
  },
  {
   "cell_type": "code",
   "execution_count": 33,
   "metadata": {},
   "outputs": [
    {
     "data": {
      "text/plain": [
       "array(['I', 'M', 'I', 'M', 'M', 'I', 'F', 'I', 'M', 'I', 'F', 'I', 'M',\n",
       "       'F', 'I', 'M', 'M', 'F', 'M', 'M', 'I', 'M', 'I', 'M', 'M', 'M',\n",
       "       'F', 'M', 'F', 'M', 'F', 'I', 'M', 'I', 'I', 'I', 'F', 'F', 'F',\n",
       "       'M', 'F', 'M', 'F', 'F', 'I', 'I', 'M', 'I', 'M', 'M', 'M', 'I',\n",
       "       'M', 'I', 'M', 'M', 'M', 'I', 'I', 'I', 'I', 'I', 'M', 'M', 'I',\n",
       "       'I', 'F', 'F', 'F', 'I', 'I', 'M', 'I', 'M', 'M', 'I', 'F', 'F',\n",
       "       'M', 'F', 'I', 'I', 'F', 'I', 'M', 'I', 'M', 'I', 'F', 'M', 'M',\n",
       "       'I', 'I', 'M', 'I', 'M', 'F', 'F', 'I', 'M', 'I', 'M', 'I', 'I',\n",
       "       'F', 'I', 'M', 'I', 'F', 'M', 'I', 'M', 'I', 'I', 'I', 'F', 'I',\n",
       "       'I', 'M', 'F', 'M', 'I', 'I', 'F', 'I', 'M', 'F', 'M', 'I', 'F',\n",
       "       'I', 'I', 'I', 'I', 'M', 'I', 'M', 'F', 'I', 'M', 'I', 'M', 'I',\n",
       "       'M', 'I', 'F', 'M', 'F', 'M', 'M', 'M', 'I', 'I', 'M', 'M', 'M',\n",
       "       'F', 'M', 'M', 'M', 'F', 'F', 'F', 'I', 'I', 'I', 'M', 'F', 'I',\n",
       "       'M', 'I', 'M', 'F', 'I', 'I', 'M', 'M', 'M', 'I', 'I', 'M', 'M',\n",
       "       'M', 'I', 'I', 'M', 'M', 'M', 'F', 'F', 'I', 'I', 'I', 'M', 'I',\n",
       "       'M', 'I', 'I', 'I', 'M', 'I', 'I', 'F', 'M', 'I', 'I', 'I', 'I',\n",
       "       'I', 'I', 'M', 'I', 'M', 'I', 'I', 'I', 'F', 'F', 'F', 'I', 'M',\n",
       "       'I', 'M', 'M', 'I', 'M', 'F', 'M', 'M', 'I', 'M', 'I', 'F', 'F',\n",
       "       'I', 'I', 'F', 'F', 'M', 'M', 'F', 'F', 'M', 'M', 'I', 'F', 'F',\n",
       "       'I', 'I', 'F', 'F', 'F', 'M', 'M', 'I', 'F', 'F', 'M', 'I', 'M',\n",
       "       'M', 'M', 'I', 'F', 'I', 'M', 'M', 'F', 'I', 'M', 'I', 'F', 'F',\n",
       "       'M', 'M', 'M', 'I', 'M', 'M', 'F', 'F', 'I', 'M', 'I', 'I', 'I',\n",
       "       'I', 'I', 'I', 'M', 'I', 'I', 'M', 'M', 'I', 'M', 'I', 'F', 'F',\n",
       "       'F', 'M', 'I', 'I', 'M', 'M', 'F', 'M', 'I', 'I', 'M', 'I', 'F',\n",
       "       'F', 'I', 'I', 'M', 'F', 'M', 'M', 'I', 'F', 'M', 'F', 'M', 'M',\n",
       "       'F', 'I', 'M', 'I', 'M', 'M', 'I', 'M', 'I', 'I', 'M', 'M', 'I',\n",
       "       'M', 'F', 'I', 'I', 'F', 'M', 'M', 'M', 'M', 'M', 'F', 'M', 'M',\n",
       "       'I', 'M', 'I', 'I', 'I', 'I', 'M', 'F', 'I', 'M', 'I', 'F', 'I',\n",
       "       'I', 'F', 'I', 'I', 'M', 'I', 'M', 'F', 'F', 'M', 'I', 'F', 'I',\n",
       "       'M', 'I', 'I', 'M', 'I', 'I', 'M', 'F', 'I', 'I', 'M', 'I', 'F',\n",
       "       'I', 'F', 'M', 'I', 'M', 'I', 'M', 'M', 'M', 'F', 'I', 'I', 'F',\n",
       "       'M', 'F', 'I', 'M', 'M', 'I', 'F', 'M', 'M', 'M', 'I', 'F', 'I',\n",
       "       'M', 'F', 'I', 'I', 'I', 'M', 'F', 'I', 'M', 'I', 'I', 'F', 'F',\n",
       "       'M', 'M', 'I', 'M', 'I', 'I', 'M', 'M', 'I', 'I', 'M', 'F', 'I',\n",
       "       'I', 'I', 'F', 'I', 'M', 'M', 'I', 'I', 'M', 'M', 'I', 'I', 'I',\n",
       "       'F', 'M', 'I', 'M', 'F', 'M', 'I', 'M', 'F', 'I', 'F', 'F', 'M',\n",
       "       'F', 'I', 'I', 'M', 'I', 'I', 'M', 'F', 'I', 'F', 'F', 'I', 'I',\n",
       "       'I', 'M', 'M', 'I', 'I', 'I', 'M', 'F', 'F', 'I', 'M', 'I', 'I',\n",
       "       'I', 'I', 'I', 'M', 'I', 'I', 'M', 'I', 'M', 'I', 'F', 'F', 'M',\n",
       "       'M', 'M', 'F', 'F', 'M', 'M', 'I', 'I', 'I', 'I', 'M', 'I', 'I',\n",
       "       'I', 'F', 'M', 'F', 'I', 'M', 'M', 'I', 'F', 'M', 'F', 'M', 'M',\n",
       "       'F', 'M', 'M', 'M', 'M', 'I', 'I', 'M', 'M', 'M', 'M', 'I', 'M',\n",
       "       'I', 'I', 'M', 'M', 'M', 'F', 'M', 'F', 'M', 'I', 'I', 'M', 'I',\n",
       "       'I', 'M', 'I', 'I', 'I', 'I', 'M', 'M', 'F', 'M', 'I', 'M', 'I',\n",
       "       'M', 'I', 'M', 'M', 'I', 'M', 'I', 'M', 'M', 'M', 'F', 'I', 'M',\n",
       "       'M', 'I', 'M', 'I', 'M', 'I', 'M', 'I', 'M', 'I', 'I', 'I', 'F',\n",
       "       'I', 'F', 'M', 'I', 'F', 'M', 'I', 'M', 'F', 'M', 'F', 'M', 'F',\n",
       "       'F', 'M', 'I', 'M', 'I', 'I', 'M', 'F', 'I', 'M', 'F', 'I', 'M',\n",
       "       'M', 'M', 'I', 'M', 'I', 'I', 'I', 'I', 'F', 'M', 'M', 'I', 'F',\n",
       "       'I', 'I', 'F', 'M', 'I', 'M', 'M', 'I', 'F', 'I', 'M', 'I', 'I',\n",
       "       'M', 'M', 'M', 'F', 'I', 'F', 'I', 'M', 'F', 'I', 'F', 'M', 'I',\n",
       "       'F', 'M', 'M', 'M', 'I', 'I', 'I', 'M', 'M', 'I', 'I', 'M', 'M',\n",
       "       'I', 'M', 'I', 'M', 'I', 'M', 'M', 'I', 'I', 'I', 'M', 'I', 'M',\n",
       "       'M', 'M', 'M', 'F', 'M', 'I', 'M', 'I', 'I', 'I', 'I', 'M', 'I',\n",
       "       'I', 'F', 'M', 'M', 'M', 'M', 'I', 'I', 'I', 'M', 'I', 'M', 'M',\n",
       "       'M', 'I', 'F', 'M', 'I', 'I', 'M', 'M', 'M', 'M', 'M', 'F', 'F',\n",
       "       'M', 'I', 'M', 'F', 'I', 'I', 'M', 'F', 'M', 'M', 'F', 'I', 'I',\n",
       "       'I', 'M', 'M', 'M', 'M', 'I', 'F', 'I', 'I', 'I', 'F', 'F', 'I',\n",
       "       'M', 'I', 'I', 'I', 'F', 'I', 'I', 'I', 'I', 'I', 'F', 'I', 'M',\n",
       "       'I', 'I', 'F', 'M', 'I', 'M', 'F', 'F', 'I', 'I', 'I', 'I', 'I',\n",
       "       'M', 'F', 'I', 'F', 'F', 'F', 'F', 'F', 'I', 'M', 'F', 'F', 'M',\n",
       "       'M', 'I', 'F', 'M', 'I', 'I', 'M', 'F', 'F', 'F', 'M', 'I', 'I',\n",
       "       'M', 'M', 'F', 'M', 'I', 'I', 'M', 'I', 'M', 'M', 'I', 'I', 'I',\n",
       "       'I', 'M', 'F', 'I', 'F', 'M', 'I', 'M', 'M', 'I', 'I', 'F', 'M',\n",
       "       'F', 'M', 'F', 'M'], dtype=object)"
      ]
     },
     "execution_count": 33,
     "metadata": {},
     "output_type": "execute_result"
    }
   ],
   "source": [
    "model_loaded.predict(x_test)"
   ]
  },
  {
   "cell_type": "code",
   "execution_count": null,
   "metadata": {},
   "outputs": [],
   "source": []
  }
 ],
 "metadata": {
  "kernelspec": {
   "display_name": "Python [conda env:conda-ml] *",
   "language": "python",
   "name": "conda-env-conda-ml-py"
  },
  "language_info": {
   "codemirror_mode": {
    "name": "ipython",
    "version": 3
   },
   "file_extension": ".py",
   "mimetype": "text/x-python",
   "name": "python",
   "nbconvert_exporter": "python",
   "pygments_lexer": "ipython3",
   "version": "3.7.5"
  },
  "varInspector": {
   "cols": {
    "lenName": 16,
    "lenType": 16,
    "lenVar": 40
   },
   "kernels_config": {
    "python": {
     "delete_cmd_postfix": "",
     "delete_cmd_prefix": "del ",
     "library": "var_list.py",
     "varRefreshCmd": "print(var_dic_list())"
    },
    "r": {
     "delete_cmd_postfix": ") ",
     "delete_cmd_prefix": "rm(",
     "library": "var_list.r",
     "varRefreshCmd": "cat(var_dic_list()) "
    }
   },
   "types_to_exclude": [
    "module",
    "function",
    "builtin_function_or_method",
    "instance",
    "_Feature"
   ],
   "window_display": false
  }
 },
 "nbformat": 4,
 "nbformat_minor": 2
}
